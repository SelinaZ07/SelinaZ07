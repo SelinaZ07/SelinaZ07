{
  "nbformat": 4,
  "nbformat_minor": 0,
  "metadata": {
    "colab": {
      "provenance": [],
      "mount_file_id": "1zfTZAdP8PHh2Us9oWvYkpJzZssjjyN2c",
      "authorship_tag": "ABX9TyMa1Bb2XA2MmzuuCoTvZ4Tm",
      "include_colab_link": true
    },
    "kernelspec": {
      "name": "python3",
      "display_name": "Python 3"
    },
    "language_info": {
      "name": "python"
    }
  },
  "cells": [
    {
      "cell_type": "markdown",
      "metadata": {
        "id": "view-in-github",
        "colab_type": "text"
      },
      "source": [
        "<a href=\"https://colab.research.google.com/github/SelinaZ07/SelinaZ07/blob/main/Canva_project.ipynb\" target=\"_parent\"><img src=\"https://colab.research.google.com/assets/colab-badge.svg\" alt=\"Open In Colab\"/></a>"
      ]
    },
    {
      "cell_type": "markdown",
      "source": [
        "Few thins that needs to be imported before using this template is(recommended to to all the files into a google folde): The three font files we want, the certificate template (no words pre-filled), the certificate data folder."
      ],
      "metadata": {
        "id": "1d87DKiDezQQ"
      }
    },
    {
      "cell_type": "code",
      "execution_count": null,
      "metadata": {
        "colab": {
          "base_uri": "https://localhost:8080/"
        },
        "id": "w7gzmEmzbDQ5",
        "outputId": "39c1a8e6-6bb9-417e-c0da-a9b1a08c28ae"
      },
      "outputs": [
        {
          "output_type": "stream",
          "name": "stdout",
          "text": [
            "Requirement already satisfied: pillow in /usr/local/lib/python3.11/dist-packages (11.2.1)\n",
            "Requirement already satisfied: pandas in /usr/local/lib/python3.11/dist-packages (2.2.2)\n",
            "Requirement already satisfied: numpy>=1.23.2 in /usr/local/lib/python3.11/dist-packages (from pandas) (2.0.2)\n",
            "Requirement already satisfied: python-dateutil>=2.8.2 in /usr/local/lib/python3.11/dist-packages (from pandas) (2.9.0.post0)\n",
            "Requirement already satisfied: pytz>=2020.1 in /usr/local/lib/python3.11/dist-packages (from pandas) (2025.2)\n",
            "Requirement already satisfied: tzdata>=2022.7 in /usr/local/lib/python3.11/dist-packages (from pandas) (2025.2)\n",
            "Requirement already satisfied: six>=1.5 in /usr/local/lib/python3.11/dist-packages (from python-dateutil>=2.8.2->pandas) (1.17.0)\n"
          ]
        }
      ],
      "source": [
        "#@title [TODO] [REPLACE - Doesn't work] Generate certificates for selected participants on Canva\n",
        "\n",
        "!pip install pillow pandas\n",
        "from PIL import Image, ImageDraw, ImageFont\n",
        "import os\n",
        "import pandas as pd\n",
        "from google.colab import auth\n",
        "from googleapiclient.discovery import build\n",
        "from googleapiclient.http import MediaFileUpload\n",
        "from google.auth import default\n",
        "\n",
        "# Authenticate and initialize the Drive API\n",
        "auth.authenticate_user()\n",
        "creds, _ = default()\n",
        "drive_service = build('drive', 'v3', credentials=creds)\n",
        "\n",
        "# Create subfolders in Google Drive folder\n",
        "def get_or_create_folder(service, name, parent_id):\n",
        "    query = f\"name='{name}' and mimeType='application/vnd.google-apps.folder' and '{parent_id}' in parents\"\n",
        "    results = service.files().list(q=query, fields=\"files(id, name)\").execute()\n",
        "    folders = results.get('files', [])\n",
        "    if folders:\n",
        "        return folders[0]['id']\n",
        "    folder_metadata = {\n",
        "        'name': name,\n",
        "        'mimeType': 'application/vnd.google-apps.folder',\n",
        "        'parents': [parent_id]\n",
        "    }\n",
        "    folder = service.files().create(body=folder_metadata, fields='id').execute()\n",
        "    return folder['id']\n",
        "\n",
        "def upload_to_drive(local_path, file_name, mime_type, folder_id):\n",
        "    file_metadata = {'name': file_name, 'parents': [folder_id]}\n",
        "    media = MediaFileUpload(local_path, mimetype=mime_type)\n",
        "    uploaded = drive_service.files().create(body=file_metadata, media_body=media, fields='id').execute()\n",
        "    return uploaded.get('id')\n",
        "\n",
        "# Customization (no need for any changes)\n",
        "canva_color = (0, 191, 99)\n",
        "text_color = (255, 255, 255)\n",
        "\n",
        "# get the Canva template\n",
        "template_path = \"The Template.png\" # @param {\"type\":\"string\"}\n",
        "output_folder = \"Canva Project\"\n",
        "os.makedirs(output_folder, exist_ok=True)\n",
        "\n",
        "# Font paths and sizes\n",
        "name_font_path = \"GreatVibes-Regular.ttf\" # @param {\"type\":\"string\"}\n",
        "cert_id_font_path = \"HammersmithOne-Regular.ttf\" # @param {\"type\":\"string\"}\n",
        "cert_url_font_path = \"LibreBaskerville-Regular.ttf\" # @param {\"type\":\"string\"}\n",
        "\n",
        "name_font = ImageFont.truetype(name_font_path, 140)\n",
        "cert_id_font = ImageFont.truetype(cert_id_font_path, 35)\n",
        "cert_url_font = ImageFont.truetype(cert_url_font_path, 20)\n",
        "\n",
        "# Link to google drive folder and create subfolders in it\n",
        "folder_id = \"1m5mUtFVHVDuAHQR_-se9cZyYJ_oCA89g\" # @param {\"type\":\"string\"}\n",
        "png_folder_id = get_or_create_folder(drive_service, \"png\", folder_id)\n",
        "pdf_folder_id = get_or_create_folder(drive_service, \"pdf\", folder_id)\n",
        "\n",
        "# create and upload certificates\n",
        "for i, row in df.iterrows():\n",
        "    full_name = row[\"Full Name\"]\n",
        "    certificate_id = row[\"Certificate ID\"]\n",
        "    certificate_url = row[\"Certificate URL\"]\n",
        "\n",
        "    img = Image.open(template_path)\n",
        "    draw = ImageDraw.Draw(img)\n",
        "\n",
        "    # Draw name\n",
        "    name_bbox = draw.textbbox((0, 0), full_name, font=name_font)\n",
        "    text_width = name_bbox[2] - name_bbox[0]\n",
        "    text_height = name_bbox[3] - name_bbox[1]\n",
        "    image_width, image_height = img.size\n",
        "    x_position = (image_width - text_width) / 2\n",
        "    y_position = image_height / 2.1\n",
        "    draw.text((x_position, y_position), full_name, font=name_font, fill=canva_color)\n",
        "\n",
        "    # Draw certificate ID\n",
        "    cert_text = f\"Certificate ID: {certificate_id}\"\n",
        "    cert_bbox = draw.textbbox((0, 0), cert_text, font=cert_id_font)\n",
        "    cert_x = (image_width - (cert_bbox[2] - cert_bbox[0])) / 2\n",
        "    cert_y = y_position + text_height + 60\n",
        "    draw.text((cert_x, cert_y), cert_text, font=cert_id_font, fill=canva_color)\n",
        "\n",
        "    # Draw certificate URL\n",
        "    url_bbox = draw.textbbox((0, 0), certificate_url, font=cert_id_font)\n",
        "    url_x = (image_width - (url_bbox[2] - url_bbox[0])) / 2 + 380\n",
        "    url_y = image_height - (url_bbox[3] - url_bbox[1]) - 9.2\n",
        "    draw.text((url_x, url_y), certificate_url, font=cert_url_font, fill=text_color)\n",
        "\n",
        "    # Save PNG and PDF\n",
        "    png_path = os.path.join(output_folder, f\"{full_name}.png\")\n",
        "    pdf_path = os.path.join(output_folder, f\"{full_name}.pdf\")\n",
        "    img.save(png_path, \"PNG\")\n",
        "    img.save(pdf_path, \"PDF\", resolution=100.0)\n",
        "\n",
        "    # Upload to Google Drive\n",
        "    upload_to_drive(png_path, f\"{full_name}.png\", \"image/png\", png_folder_id)\n",
        "    print(f\"Uploaded {full_name}.png to PNG folder.\")\n",
        "\n",
        "    upload_to_drive(pdf_path, f\"{full_name}.pdf\", \"application/pdf\", pdf_folder_id)\n",
        "    print(f\"Uploaded {full_name}.pdf to PDF folder.\")"
      ]
    }
  ]
}